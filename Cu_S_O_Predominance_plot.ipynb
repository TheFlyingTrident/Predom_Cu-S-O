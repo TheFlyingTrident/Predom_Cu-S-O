{
  "nbformat": 4,
  "nbformat_minor": 0,
  "metadata": {
    "colab": {
      "name": "Cu-S-O_Predominance_plot.ipynb",
      "provenance": [],
      "collapsed_sections": []
    },
    "kernelspec": {
      "name": "python3",
      "display_name": "Python 3"
    },
    "language_info": {
      "name": "python"
    }
  },
  "cells": [
    {
      "cell_type": "code",
      "metadata": {
        "id": "pSCr8xkqDEu0"
      },
      "source": [
        "#Importing required libraries\n",
        "import numpy as np\n",
        "import matplotlib.pyplot as plt\n",
        "%matplotlib inline"
      ],
      "execution_count": null,
      "outputs": []
    },
    {
      "cell_type": "markdown",
      "metadata": {
        "id": "bhOnErtBEBW7"
      },
      "source": [
        "##Input Temperature T in K"
      ]
    },
    {
      "cell_type": "code",
      "metadata": {
        "colab": {
          "base_uri": "https://localhost:8080/"
        },
        "id": "9hETV-k-EbNK",
        "outputId": "16d7ca4f-2df6-4a10-bc48-c1fb1d9e0f81"
      },
      "source": [
        "T = float(input(\"Enter a particular value of temperature in K : \"))"
      ],
      "execution_count": null,
      "outputs": [
        {
          "name": "stdout",
          "output_type": "stream",
          "text": [
            "Enter a particular value of temperature in K : 1023\n"
          ]
        }
      ]
    },
    {
      "cell_type": "markdown",
      "metadata": {
        "id": "bIZr4-WyDV7J"
      },
      "source": [
        "##Calculating values of ΔG = ΔH - TΔS : 11 chemical reactions"
      ]
    },
    {
      "cell_type": "code",
      "metadata": {
        "id": "KnNKKYHZDUe7"
      },
      "source": [
        "def delta_g(t):\n",
        "  c = -0.05223316034/t#constant part in calculation of log k where k is equilibrium constant\n",
        "  #Substituting values of delta H and delta S\n",
        "  g_jg = 1000*(-721.45-(t*-0.3673))\n",
        "  c_jg = g_jg*c\n",
        "  g_gi = 1000*(-295.96-(t*-0.0169))\n",
        "  c_gi = g_gi*c\n",
        "  g_gc = 1000*(-1146.94-(t*-0.7516))\n",
        "  c_gc = g_gc*c\n",
        "  g_bc = 1000*(-371.36-(t*-0.0739))\n",
        "  c_bc = g_bc*c\n",
        "  g_cd = 1000*(-775.58-(t*-0.6776))\n",
        "  c_cd = g_cd*c\n",
        "  g_ab = 1000*(-170.71-(t*-0.0765))\n",
        "  c_ab = g_ab*c\n",
        "  g_hb = 1000*(-200.66-(t*0.0025))\n",
        "  c_hb = g_hb*c\n",
        "  g_dk = 1000*(-315.53-(t*-0.2894))\n",
        "  c_dk = g_dk*c\n",
        "  g_de = 1000*(-460.04-(t*-0.3882))\n",
        "  c_de = g_de*c\n",
        "  g_el = 1000*(-320.37-(t*-0.2794))\n",
        "  c_el = g_el*c\n",
        "  g_ef = 1000*(-139.68-(t*-0.1088))\n",
        "  c_ef = g_ef*c\n",
        "  return c_jg,c_gi,c_gc,c_bc,c_cd,c_ab,c_hb,c_dk,c_de,c_el,c_ef\n"
      ],
      "execution_count": null,
      "outputs": []
    },
    {
      "cell_type": "code",
      "metadata": {
        "colab": {
          "base_uri": "https://localhost:8080/"
        },
        "id": "mqD3y-ABmSWf",
        "outputId": "85ec4eb8-d9c9-46ca-c53b-1354cafe077a"
      },
      "source": [
        "#Storing 11 logarithm of equilibrium constants of different reactions\n",
        "log_k = delta_g(T)\n",
        "print(log_k)"
      ],
      "execution_count": null,
      "outputs": [
        {
          "output_type": "stream",
          "name": "stdout",
          "text": [
            "(17.65113706664195, 14.228624335343344, 19.302945662414555, 15.101168301179378, 4.207000677269179, 4.7204123069532455, 10.376043266269745, 0.9943090105856217, 3.21218107860594, 1.7637652435512157, 1.4489264231323409)\n"
          ]
        }
      ]
    },
    {
      "cell_type": "markdown",
      "metadata": {
        "id": "g25673zUDwbW"
      },
      "source": [
        "##Calculation and assignment of slope and intercept using ΔGᵒ and T : 11 line equations"
      ]
    },
    {
      "cell_type": "code",
      "metadata": {
        "id": "OeNmj-6zEcVy"
      },
      "source": [
        "y=[]\n",
        "y.append(log_k[0])\n",
        "m_gi = 1\n",
        "y.append(log_k[1])\n",
        "m_gc = -3\n",
        "y.append(-log_k[2])\n",
        "m_bc = 1.5\n",
        "y.append(log_k[3])\n",
        "m_cd = -0.75\n",
        "y.append(-0.5*log_k[4])\n",
        "y.append(log_k[5])\n",
        "m_hb = 1\n",
        "y.append(log_k[6])\n",
        "m_dk = -0.5\n",
        "y.append(-log_k[7])\n",
        "m_de = -1\n",
        "y.append(-log_k[8])\n",
        "m_el = -0.5\n",
        "y.append(-log_k[9])\n",
        "y.append(log_k[10])"
      ],
      "execution_count": null,
      "outputs": []
    },
    {
      "cell_type": "markdown",
      "metadata": {
        "id": "f69XeXJ4Ecz_"
      },
      "source": [
        "##Finding required 5 intersection points using f (x) - g (x) = 0 "
      ]
    },
    {
      "cell_type": "code",
      "metadata": {
        "id": "-Bz-_WHFEolp"
      },
      "source": [
        "#gi and gc\n",
        "p1 = np.roots([m_gi-m_gc,y[1]-y[2]])[0]\n",
        "#gc and cd\n",
        "p2 = np.roots([m_gc-m_cd,y[2]-y[4]])[0]\n",
        "#cd and dk\n",
        "p3 = np.roots([m_cd-m_dk,y[4]-y[7]])[0]\n",
        "#de and el\n",
        "p4 = np.roots([m_de-m_el,y[8]-y[9]])[0]\n",
        "#hb and bc\n",
        "p5 = np.roots([m_hb-m_bc,y[6]-y[3]])[0]"
      ],
      "execution_count": null,
      "outputs": []
    },
    {
      "cell_type": "markdown",
      "metadata": {
        "id": "Rn19Ll2pzl4O"
      },
      "source": [
        "##Range of x-values for specfic line plot"
      ]
    },
    {
      "cell_type": "code",
      "metadata": {
        "id": "-yi45ksSzuEr"
      },
      "source": [
        "x_gi = np.linspace(-15,p1,100)\n",
        "x_gc = np.linspace(p1,p2,100)\n",
        "x_bc = np.linspace(p5,p2,100)\n",
        "x_cd = np.linspace(p2,p3,100)\n",
        "x_hb = np.linspace(-15,p5,100)\n",
        "x_dk = np.linspace(p3,5,100)\n",
        "x_de = np.linspace(p3,p4,100)\n",
        "x_el = np.linspace(p4,5,100)\n",
        "#Calculation of y co-ordinate of intersection points\n",
        "y_1 = (1*p1)+y[1]\n",
        "y_2 = (-3*p2)+y[2]\n",
        "y_4 = (-0.5*p4)+y[9]\n",
        "y_5 = (1*p5)+y[6]"
      ],
      "execution_count": null,
      "outputs": []
    },
    {
      "cell_type": "markdown",
      "metadata": {
        "id": "5AVbLfPnEprw"
      },
      "source": [
        "##Labelled Plot"
      ]
    },
    {
      "cell_type": "code",
      "metadata": {
        "colab": {
          "base_uri": "https://localhost:8080/",
          "height": 295
        },
        "id": "JbpWaDg_Eu5e",
        "outputId": "9d3c0063-f942-41fb-99ac-384e18d4ed52"
      },
      "source": [
        "#Line plot\n",
        "plt.plot(x_gi,(1*x_gi)+y[1], 'red')\n",
        "plt.plot(x_gc,(-3*x_gc)+y[2], 'red')\n",
        "plt.plot(x_bc,(1.5*x_bc)+y[3], 'red')\n",
        "plt.plot(x_cd,(-0.75*x_cd)+y[4], 'red')\n",
        "plt.plot(x_hb,(1*x_hb)+y[6], 'red')\n",
        "plt.plot(x_dk,(-0.5*x_dk)+y[7], 'red')\n",
        "plt.plot(x_de,(-1*x_de)+y[8], 'red')\n",
        "plt.plot(x_el,(-0.5*x_el)+y[9], 'red')\n",
        "plt.vlines(x=p1,ymin = y_1,ymax = 10 ,color='red')\n",
        "plt.vlines(x=-2*y[5],ymin = -10 ,ymax = y_5 , color='red')\n",
        "plt.vlines(x=-2*y[10],ymin = -10,ymax = y_4, color='red')\n",
        "#Text plot\n",
        "plt.text(p1+7,y_1, u'CuSO\\u2084(s)', fontsize = 10.5)\n",
        "plt.text(p1-5,y_1, 'CuS(s)', fontsize = 10.5)\n",
        "plt.text(p5-3,y_5, u'Cu\\u2082S(s)', fontsize = 10.5)\n",
        "plt.text(p5+2,y_5-5, u'Cu\\u2082O(s)', fontsize = 10.5)\n",
        "plt.text(p5-3,y_5-7, 'Cu(s)', fontsize = 10.5)\n",
        "plt.text(p4+3,y_5-8, 'CuO(s)', fontsize = 10.5)\n",
        "plt.text(p4+2,y_5-3, u'CuO.CuS0\\u2084(s)', fontsize = 10.5)\n",
        "plt.text(p2,y_2, u'* Cu\\u2082S0\\u2084(s)', fontsize = 10.5)\n",
        "#Label plot\n",
        "plt.xlabel(u'log(p(O\\u2082))(atm)')#log(p(O2))(atm)\n",
        "plt.ylabel(u'log(p(SO\\u2082))(atm)')#log(p(SO2))(atm)\n",
        "plt.title(\"Cu-S-O Predominance Diagram at : \"+str(T)+\" K\")\n",
        "plt.show()"
      ],
      "execution_count": null,
      "outputs": [
        {
          "output_type": "display_data",
          "data": {
            "image/png": "[encoded data removed]",
            "text/plain": [
              "<Figure size 432x288 with 1 Axes>"
            ]
          },
          "metadata": {
            "needs_background": "light"
          }
        }
      ]
    }
  ]
}